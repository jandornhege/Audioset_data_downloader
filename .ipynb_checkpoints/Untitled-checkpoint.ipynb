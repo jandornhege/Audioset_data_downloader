{
  {
   "cell_type": "code",
   "execution_count": 2,
   "metadata": {},
   "outputs": [],
   "source": [
    "from __future__ import unicode_literals\n",
    "import youtube_dl\n",
    "import moviepy.editor as mp\n",
    "import os"
   ]
  },
  {
   "cell_type": "code",
   "execution_count": 3,
   "metadata": {},
   "outputs": [],
   "source": [
    "positive_label=\"/m/0c3f7m\""
   ]
  },
  {
   "cell_type": "markdown",
   "metadata": {},
   "source": [
    "# find videos matching positive_label\n",
    "\n"
   ]
  },
  {
   "cell_type": "code",
   "execution_count": 4,
   "metadata": {},
   "outputs": [],
   "source": [
    "video_list=[]\n",
    "with open(\"balanced_train_segments.csv\") as csvfile:\n",
    "    for row in csvfile:\n",
    "        if positive_label in row.split()[-1]:\n",
    "            items=row.split(\",\")\n",
    "            video_list.append([items[0],int(float(items[1])),int(float(items[2]))]) "
   ]
  },
  {
   "cell_type": "markdown",
   "metadata": {},
   "source": [
    "# download videos to tmp\\ and take audio from needed section  \n",
    "\n"
   ]
  },
  {
   "cell_type": "code",
   "execution_count": 4,
   "metadata": {},
   "outputs": [
    {
     "name": "stdout",
     "output_type": "stream",
     "text": [
      "------Downloading file 1--------------------------\n",
      "[youtube] 0amHVSbkaX8: Downloading webpage\n"
     ]
    },
    {
     "name": "stderr",
     "output_type": "stream",
     "text": [
      "WARNING: Requested formats are incompatible for merge and will be merged into mkv.\n"
     ]
    },
    {
     "name": "stdout",
     "output_type": "stream",
     "text": [
      "[download] Destination: tmp\\vid1.f133.mp4\n",
      "[download] 100% of 1.81MiB in 00:00                   \n",
      "[download] Destination: tmp\\vid1.f251.webm\n",
      "[download] 100% of 1.72MiB in 00:00                  \n",
      "[ffmpeg] Merging formats into \"tmp\\vid1.mkv\"\n",
      "Deleting original file tmp\\vid1.f133.mp4 (pass -k to keep)\n",
      "Deleting original file tmp\\vid1.f251.webm (pass -k to keep)\n"
     ]
    },
    {
     "name": "stderr",
     "output_type": "stream",
     "text": [
      "\r",
      "chunk:   0%|          | 0/221 [00:00<?, ?it/s, now=None]"
     ]
    },
    {
     "name": "stdout",
     "output_type": "stream",
     "text": [
      "MoviePy - Writing audio in audio_clips\\Audio1.wav\n"
     ]
    },
    {
     "name": "stderr",
     "output_type": "stream",
     "text": [
      "                                                                  "
     ]
    },
    {
     "name": "stdout",
     "output_type": "stream",
     "text": [
      "MoviePy - Done.\n",
      "------Downloading file 2--------------------------\n",
      "[youtube] 0cwIKnoMEBE: Downloading webpage\n"
     ]
    },
    {
     "name": "stderr",
     "output_type": "stream",
     "text": [
      "ERROR: 0cwIKnoMEBE: YouTube said: Unable to extract video data\n"
     ]
    },
    {
     "name": "stdout",
     "output_type": "stream",
     "text": [
      "-------Video 2 not available to use\n",
      "------Downloading file 2--------------------------\n",
      "[youtube] 1GG3QoDNLFM: Downloading webpage\n"
     ]
    },
    {
     "name": "stderr",
     "output_type": "stream",
     "text": [
      "WARNING: Requested formats are incompatible for merge and will be merged into mkv.\n"
     ]
    },
    {
     "name": "stdout",
     "output_type": "stream",
     "text": [
      "[download] Destination: tmp\\vid2.f136.mp4\n",
      "[download] 100% of 36.80MiB in 00:13                          \n",
      "[download] Destination: tmp\\vid2.f251.webm\n",
      "[download] 100% of 3.77MiB in 00:01                  \n",
      "[ffmpeg] Merging formats into \"tmp\\vid2.mkv\"\n",
      "Deleting original file tmp\\vid2.f136.mp4 (pass -k to keep)\n",
      "Deleting original file tmp\\vid2.f251.webm (pass -k to keep)\n"
     ]
    },
    {
     "name": "stderr",
     "output_type": "stream",
     "text": [
      "\r",
      "chunk:   0%|          | 0/221 [00:00<?, ?it/s, now=None]"
     ]
    },
    {
     "name": "stdout",
     "output_type": "stream",
     "text": [
      "MoviePy - Writing audio in audio_clips\\Audio2.wav\n"
     ]
    },
    {
     "name": "stderr",
     "output_type": "stream",
     "text": [
      "                                                                  "
     ]
    },
    {
     "name": "stdout",
     "output_type": "stream",
     "text": [
      "MoviePy - Done.\n",
      "------Downloading file 3--------------------------\n",
      "[youtube] 1WFLYqsLvv0: Downloading webpage\n"
     ]
    },
    {
     "name": "stderr",
     "output_type": "stream",
     "text": [
      "WARNING: Requested formats are incompatible for merge and will be merged into mkv.\n"
     ]
    },
    {
     "name": "stdout",
     "output_type": "stream",
     "text": [
      "[download] Destination: tmp\\vid3.f133.mp4\n",
      "[download] 100% of 226.76KiB in 00:00                  \n",
      "[download] Destination: tmp\\vid3.f251.webm\n",
      "[download] 100% of 211.58KiB in 00:00                  \n",
      "[ffmpeg] Merging formats into \"tmp\\vid3.mkv\"\n",
      "Deleting original file tmp\\vid3.f133.mp4 (pass -k to keep)\n",
      "Deleting original file tmp\\vid3.f251.webm (pass -k to keep)\n"
     ]
    },
    {
     "name": "stderr",
     "output_type": "stream",
     "text": [
      "\r",
      "chunk:   0%|          | 0/221 [00:00<?, ?it/s, now=None]"
     ]
    },
    {
     "name": "stdout",
     "output_type": "stream",
     "text": [
      "MoviePy - Writing audio in audio_clips\\Audio3.wav\n"
     ]
    },
    {
     "name": "stderr",
     "output_type": "stream",
     "text": [
      "                                                                  \r"
     ]
    },
    {
     "name": "stdout",
     "output_type": "stream",
     "text": [
      "-------Video 3 not available to use\n",
      "------Downloading file 3--------------------------\n",
      "[youtube] 2VMfJymq_lY: Downloading webpage\n"
     ]
    },
    {
     "name": "stderr",
     "output_type": "stream",
     "text": [
      "WARNING: Requested formats are incompatible for merge and will be merged into mkv.\n"
     ]
    },
    {
     "name": "stdout",
     "output_type": "stream",
     "text": [
      "[download] tmp\\vid3.mkv has already been downloaded and merged\n",
      "-------Video 3 not available to use\n",
      "------Downloading file 3--------------------------\n",
      "[youtube] 41Sp2_BXM0U: Downloading webpage\n"
     ]
    },
    {
     "name": "stderr",
     "output_type": "stream",
     "text": [
      "WARNING: Requested formats are incompatible for merge and will be merged into mkv.\n"
     ]
    },
    {
     "name": "stdout",
     "output_type": "stream",
     "text": [
      "[download] tmp\\vid3.mkv has already been downloaded and merged\n",
      "-------Video 3 not available to use\n",
      "------Downloading file 3--------------------------\n",
      "[youtube] 4xcSq8UjPCI: Downloading webpage\n"
     ]
    },
    {
     "name": "stderr",
     "output_type": "stream",
     "text": [
      "WARNING: Requested formats are incompatible for merge and will be merged into mkv.\n"
     ]
    },
    {
     "name": "stdout",
     "output_type": "stream",
     "text": [
      "[download] tmp\\vid3.mkv has already been downloaded and merged\n",
      "-------Video 3 not available to use\n",
      "------Downloading file 3--------------------------\n",
      "[youtube] 5EbJQCFom8o: Downloading webpage\n"
     ]
    },
    {
     "name": "stderr",
     "output_type": "stream",
     "text": [
      "WARNING: Requested formats are incompatible for merge and will be merged into mkv.\n"
     ]
    },
    {
     "name": "stdout",
     "output_type": "stream",
     "text": [
      "[download] tmp\\vid3.mkv has already been downloaded and merged\n",
      "-------Video 3 not available to use\n",
      "------Downloading file 3--------------------------\n",
      "[youtube] 6z4HD7Dw7i8: Downloading webpage\n"
     ]
    },
    {
     "name": "stderr",
     "output_type": "stream",
     "text": [
      "WARNING: Requested formats are incompatible for merge and will be merged into mkv.\n"
     ]
    },
    {
     "name": "stdout",
     "output_type": "stream",
     "text": [
      "[download] tmp\\vid3.mkv has already been downloaded and merged\n",
      "-------Video 3 not available to use\n",
      "------Downloading file 3--------------------------\n",
      "[youtube] 7GEiPdnqJUw: Downloading webpage\n"
     ]
    },
    {
     "name": "stderr",
     "output_type": "stream",
     "text": [
      "WARNING: Requested formats are incompatible for merge and will be merged into mkv.\n"
     ]
    },
    {
     "name": "stdout",
     "output_type": "stream",
     "text": [
      "[download] tmp\\vid3.mkv has already been downloaded and merged\n",
      "-------Video 3 not available to use\n",
      "------Downloading file 3--------------------------\n",
      "[youtube] BIK1Ds79KVM: Downloading webpage\n"
     ]
    },
    {
     "name": "stderr",
     "output_type": "stream",
     "text": [
      "WARNING: Requested formats are incompatible for merge and will be merged into mkv.\n"
     ]
    },
    {
     "name": "stdout",
     "output_type": "stream",
     "text": [
      "[download] tmp\\vid3.mkv has already been downloaded and merged\n",
      "-------Video 3 not available to use\n",
      "------Downloading file 3--------------------------\n",
      "[youtube] C4gMM8aXagQ: Downloading webpage\n"
     ]
    },
    {
     "name": "stderr",
     "output_type": "stream",
     "text": [
      "WARNING: Requested formats are incompatible for merge and will be merged into mkv.\n"
     ]
    },
    {
     "name": "stdout",
     "output_type": "stream",
     "text": [
      "[download] tmp\\vid3.mkv has already been downloaded and merged\n",
      "-------Video 3 not available to use\n",
      "------Downloading file 3--------------------------\n",
      "[youtube] CDwk_DbprX4: Downloading webpage\n"
     ]
    },
    {
     "name": "stderr",
     "output_type": "stream",
     "text": [
      "WARNING: Requested formats are incompatible for merge and will be merged into mkv.\n"
     ]
    },
    {
     "name": "stdout",
     "output_type": "stream",
     "text": [
      "[download] tmp\\vid3.mkv has already been downloaded and merged\n",
      "-------Video 3 not available to use\n",
      "------Downloading file 3--------------------------\n",
      "[youtube] D2_KIhSbmt0: Downloading webpage\n"
     ]
    },
    {
     "name": "stderr",
     "output_type": "stream",
     "text": [
      "WARNING: Requested formats are incompatible for merge and will be merged into mkv.\n"
     ]
    },
    {
     "name": "stdout",
     "output_type": "stream",
     "text": [
      "[download] tmp\\vid3.mkv has already been downloaded and merged\n",
      "-------Video 3 not available to use\n",
      "------Downloading file 3--------------------------\n",
      "[youtube] DMMCiQB7-E4: Downloading webpage\n"
     ]
    },
    {
     "name": "stderr",
     "output_type": "stream",
     "text": [
      "WARNING: Requested formats are incompatible for merge and will be merged into mkv.\n"
     ]
    },
    {
     "name": "stdout",
     "output_type": "stream",
     "text": [
      "[download] tmp\\vid3.mkv has already been downloaded and merged\n",
      "-------Video 3 not available to use\n",
      "------Downloading file 3--------------------------\n",
      "[youtube] EqSluSsMXE0: Downloading webpage\n"
     ]
    },
    {
     "name": "stderr",
     "output_type": "stream",
     "text": [
      "WARNING: Requested formats are incompatible for merge and will be merged into mkv.\n"
     ]
    },
    {
     "name": "stdout",
     "output_type": "stream",
     "text": [
      "[download] tmp\\vid3.mkv has already been downloaded and merged\n",
      "-------Video 3 not available to use\n",
      "------Downloading file 3--------------------------\n",
      "[youtube] F3dasUA6LqU: Downloading webpage\n"
     ]
    },
    {
     "name": "stderr",
     "output_type": "stream",
     "text": [
      "WARNING: Requested formats are incompatible for merge and will be merged into mkv.\n"
     ]
    },
    {
     "name": "stdout",
     "output_type": "stream",
     "text": [
      "[download] tmp\\vid3.mkv has already been downloaded and merged\n",
      "-------Video 3 not available to use\n",
      "------Downloading file 3--------------------------\n",
      "[youtube] GyygYycarL0: Downloading webpage\n",
      "[download] Destination: tmp\\vid3.f135.mp4\n",
      "[download] 100% of 42.58MiB in 00:16                          \n",
      "[download] Destination: tmp\\vid3.f140.m4a\n",
      "[download] 100% of 9.28MiB in 00:03                  \n",
      "[ffmpeg] Merging formats into \"tmp\\vid3.mp4\"\n",
      "Deleting original file tmp\\vid3.f135.mp4 (pass -k to keep)\n",
      "Deleting original file tmp\\vid3.f140.m4a (pass -k to keep)\n"
     ]
    },
    {
     "name": "stderr",
     "output_type": "stream",
     "text": [
      "\r",
      "chunk:   0%|          | 0/221 [00:00<?, ?it/s, now=None]"
     ]
    },
    {
     "name": "stdout",
     "output_type": "stream",
     "text": [
      "MoviePy - Writing audio in audio_clips\\Audio3.wav\n"
     ]
    },
    {
     "name": "stderr",
     "output_type": "stream",
     "text": [
      "                                                                  "
     ]
    },
    {
     "name": "stdout",
     "output_type": "stream",
     "text": [
      "MoviePy - Done.\n",
      "------Downloading file 4--------------------------\n",
      "[youtube] HFpfDaLZtzQ: Downloading webpage\n"
     ]
    },
    {
     "name": "stderr",
     "output_type": "stream",
     "text": [
      "WARNING: Requested formats are incompatible for merge and will be merged into mkv.\n"
     ]
    },
    {
     "name": "stdout",
     "output_type": "stream",
     "text": [
      "[download] Destination: tmp\\vid4.f134.mp4\n",
      "[download] 100% of 12.38MiB in 00:04                          \n",
      "[download] Destination: tmp\\vid4.f251.webm\n",
      "[download] 100% of 4.15MiB in 00:02                  \n",
      "[ffmpeg] Merging formats into \"tmp\\vid4.mkv\"\n",
      "Deleting original file tmp\\vid4.f134.mp4 (pass -k to keep)\n",
      "Deleting original file tmp\\vid4.f251.webm (pass -k to keep)\n"
     ]
    },
    {
     "name": "stderr",
     "output_type": "stream",
     "text": [
      "\r",
      "chunk:   0%|          | 0/221 [00:00<?, ?it/s, now=None]"
     ]
    },
    {
     "name": "stdout",
     "output_type": "stream",
     "text": [
      "MoviePy - Writing audio in audio_clips\\Audio4.wav\n"
     ]
    },
    {
     "name": "stderr",
     "output_type": "stream",
     "text": [
      "                                                                  "
     ]
    },
    {
     "name": "stdout",
     "output_type": "stream",
     "text": [
      "MoviePy - Done.\n",
      "------Downloading file 5--------------------------\n",
      "[youtube] HxO2GRMD_fw: Downloading webpage\n"
     ]
    },
    {
     "name": "stderr",
     "output_type": "stream",
     "text": [
      "WARNING: Requested formats are incompatible for merge and will be merged into mkv.\n"
     ]
    },
    {
     "name": "stdout",
     "output_type": "stream",
     "text": [
      "[download] Destination: tmp\\vid5.f136.mp4\n",
      "[download] 100% of 5.69MiB in 00:02                  \n",
      "[download] Destination: tmp\\vid5.f251.webm\n",
      "[download] 100% of 2.05MiB in 00:00                  \n",
      "[ffmpeg] Merging formats into \"tmp\\vid5.mkv\"\n",
      "Deleting original file tmp\\vid5.f136.mp4 (pass -k to keep)\n",
      "Deleting original file tmp\\vid5.f251.webm (pass -k to keep)\n"
     ]
    },
    {
     "name": "stderr",
     "output_type": "stream",
     "text": [
      "\r",
      "chunk:   0%|          | 0/221 [00:00<?, ?it/s, now=None]"
     ]
    },
    {
     "name": "stdout",
     "output_type": "stream",
     "text": [
      "MoviePy - Writing audio in audio_clips\\Audio5.wav\n"
     ]
    },
    {
     "name": "stderr",
     "output_type": "stream",
     "text": [
      "                                                                  \r"
     ]
    },
    {
     "name": "stdout",
     "output_type": "stream",
     "text": [
      "MoviePy - Done.\n",
      "------Downloading file 6--------------------------\n",
      "[youtube] I3etAR5FQjo: Downloading webpage\n"
     ]
    },
    {
     "name": "stderr",
     "output_type": "stream",
     "text": [
      "WARNING: Requested formats are incompatible for merge and will be merged into mkv.\n"
     ]
    },
    {
     "name": "stdout",
     "output_type": "stream",
     "text": [
      "[download] Destination: tmp\\vid6.f137.mp4\n",
      "[download] 100% of 21.79MiB in 00:09                          \n",
      "[download] Destination: tmp\\vid6.f251.webm\n",
      "[download] 100% of 1.21MiB in 00:00                  \n",
      "[ffmpeg] Merging formats into \"tmp\\vid6.mkv\"\n",
      "Deleting original file tmp\\vid6.f137.mp4 (pass -k to keep)\n",
      "Deleting original file tmp\\vid6.f251.webm (pass -k to keep)\n"
     ]
    },
    {
     "name": "stderr",
     "output_type": "stream",
     "text": [
      "\r",
      "chunk:   0%|          | 0/221 [00:00<?, ?it/s, now=None]"
     ]
    },
    {
     "name": "stdout",
     "output_type": "stream",
     "text": [
      "MoviePy - Writing audio in audio_clips\\Audio6.wav\n"
     ]
    },
    {
     "name": "stderr",
     "output_type": "stream",
     "text": [
      "                                                                  "
     ]
    },
    {
     "name": "stdout",
     "output_type": "stream",
     "text": [
      "MoviePy - Done.\n",
      "------Downloading file 7--------------------------\n",
      "[youtube] I6YfsWzCvLI: Downloading webpage\n"
     ]
    },
    {
     "name": "stderr",
     "output_type": "stream",
     "text": [
      "WARNING: Requested formats are incompatible for merge and will be merged into mkv.\n"
     ]
    },
    {
     "name": "stdout",
     "output_type": "stream",
     "text": [
      "[download] Destination: tmp\\vid7.f135.mp4\n",
      "[download] 100% of 6.86MiB in 00:03                  \n",
      "[download] Destination: tmp\\vid7.f251.webm\n",
      "[download] 100% of 1.25MiB in 00:01                   \n",
      "[ffmpeg] Merging formats into \"tmp\\vid7.mkv\"\n",
      "Deleting original file tmp\\vid7.f135.mp4 (pass -k to keep)\n",
      "Deleting original file tmp\\vid7.f251.webm (pass -k to keep)\n"
     ]
    },
    {
     "name": "stderr",
     "output_type": "stream",
     "text": [
      "\r",
      "chunk:   0%|          | 0/221 [00:00<?, ?it/s, now=None]"
     ]
    },
    {
     "name": "stdout",
     "output_type": "stream",
     "text": [
      "MoviePy - Writing audio in audio_clips\\Audio7.wav\n"
     ]
    },
    {
     "name": "stderr",
     "output_type": "stream",
     "text": [
      "                                                                  "
     ]
    },
    {
     "name": "stdout",
     "output_type": "stream",
     "text": [
      "MoviePy - Done.\n",
      "------Downloading file 8--------------------------\n",
      "[youtube] IYrVF4tHN08: Downloading webpage\n"
     ]
    },
    {
     "name": "stderr",
     "output_type": "stream",
     "text": [
      "WARNING: Requested formats are incompatible for merge and will be merged into mkv.\n"
     ]
    },
    {
     "name": "stdout",
     "output_type": "stream",
     "text": [
      "[download] Destination: tmp\\vid8.f135.mp4\n",
      "[download] 100% of 1.44MiB in 00:00                  \n",
      "[download] Destination: tmp\\vid8.f251.webm\n",
      "[download] 100% of 479.24KiB in 00:00                  \n",
      "[ffmpeg] Merging formats into \"tmp\\vid8.mkv\"\n",
      "Deleting original file tmp\\vid8.f135.mp4 (pass -k to keep)\n",
      "Deleting original file tmp\\vid8.f251.webm (pass -k to keep)\n"
     ]
    },
    {
     "name": "stderr",
     "output_type": "stream",
     "text": [
      "chunk:   1%|          | 2/221 [00:00<00:11, 19.61it/s, now=None]"
     ]
    },
    {
     "name": "stdout",
     "output_type": "stream",
     "text": [
      "MoviePy - Writing audio in audio_clips\\Audio8.wav\n"
     ]
    },
    {
     "name": "stderr",
     "output_type": "stream",
     "text": [
      "                                                                  \r"
     ]
    },
    {
     "name": "stdout",
     "output_type": "stream",
     "text": [
      "MoviePy - Done.\n",
      "------Downloading file 9--------------------------\n",
      "[youtube] LPvP5Cu4FwY: Downloading webpage\n"
     ]
    },
    {
     "name": "stderr",
     "output_type": "stream",
     "text": [
      "WARNING: Requested formats are incompatible for merge and will be merged into mkv.\n"
     ]
    },
    {
     "name": "stdout",
     "output_type": "stream",
     "text": [
      "[download] Destination: tmp\\vid9.f133.mp4\n",
      "[download] 100% of 861.72KiB in 00:00                  \n",
      "[download] Destination: tmp\\vid9.f251.webm\n",
      "[download] 100% of 455.44KiB in 00:00                  \n",
      "[ffmpeg] Merging formats into \"tmp\\vid9.mkv\"\n",
      "Deleting original file tmp\\vid9.f133.mp4 (pass -k to keep)\n",
      "Deleting original file tmp\\vid9.f251.webm (pass -k to keep)\n"
     ]
    },
    {
     "name": "stderr",
     "output_type": "stream",
     "text": [
      "chunk:   1%|          | 2/221 [00:00<00:11, 18.87it/s, now=None]"
     ]
    },
    {
     "name": "stdout",
     "output_type": "stream",
     "text": [
      "MoviePy - Writing audio in audio_clips\\Audio9.wav\n"
     ]
    },
    {
     "name": "stderr",
     "output_type": "stream",
     "text": [
      "                                                                  "
     ]
    },
    {
     "name": "stdout",
     "output_type": "stream",
     "text": [
      "-------Video 9 not available to use\n",
      "------Downloading file 9--------------------------\n",
      "[youtube] LjeZYuAHjpk: Downloading webpage\n"
     ]
    },
    {
     "name": "stderr",
     "output_type": "stream",
     "text": [
      "WARNING: Requested formats are incompatible for merge and will be merged into mkv.\n"
     ]
    },
    {
     "name": "stdout",
     "output_type": "stream",
     "text": [
      "[download] tmp\\vid9.mkv has already been downloaded and merged\n"
     ]
    },
    {
     "name": "stderr",
     "output_type": "stream",
     "text": [
      "\r",
      "chunk:   0%|          | 0/221 [00:00<?, ?it/s, now=None]"
     ]
    },
    {
     "name": "stdout",
     "output_type": "stream",
     "text": [
      "MoviePy - Writing audio in audio_clips\\Audio9.wav\n"
     ]
    },
    {
     "name": "stderr",
     "output_type": "stream",
     "text": [
      "                                                                  "
     ]
    },
    {
     "name": "stdout",
     "output_type": "stream",
     "text": [
      "MoviePy - Done.\n",
      "------Downloading file 10--------------------------\n",
      "[youtube] MD5-NpSFLas: Downloading webpage\n"
     ]
    },
    {
     "name": "stderr",
     "output_type": "stream",
     "text": [
      "WARNING: Requested formats are incompatible for merge and will be merged into mkv.\n"
     ]
    },
    {
     "name": "stdout",
     "output_type": "stream",
     "text": [
      "[download] Destination: tmp\\vid10.f135.mp4\n",
      "[download] 100% of 20.09MiB in 00:07                          \n",
      "[download] Destination: tmp\\vid10.f251.webm\n",
      "[download] 100% of 3.33MiB in 00:01                  \n",
      "[ffmpeg] Merging formats into \"tmp\\vid10.mkv\"\n",
      "Deleting original file tmp\\vid10.f135.mp4 (pass -k to keep)\n",
      "Deleting original file tmp\\vid10.f251.webm (pass -k to keep)\n"
     ]
    },
    {
     "name": "stderr",
     "output_type": "stream",
     "text": [
      "\r",
      "chunk:   0%|          | 0/221 [00:00<?, ?it/s, now=None]"
     ]
    },
    {
     "name": "stdout",
     "output_type": "stream",
     "text": [
      "MoviePy - Writing audio in audio_clips\\Audio10.wav\n"
     ]
    },
    {
     "name": "stderr",
     "output_type": "stream",
     "text": [
      "                                                                  \r"
     ]
    },
    {
     "name": "stdout",
     "output_type": "stream",
     "text": [
      "MoviePy - Done.\n",
      "------Downloading file 11--------------------------\n",
      "[youtube] Mls0tzvQpzQ: Downloading webpage\n"
     ]
    },
    {
     "name": "stderr",
     "output_type": "stream",
     "text": [
      "ERROR: Mls0tzvQpzQ: YouTube said: Unable to extract video data\n"
     ]
    },
    {
     "name": "stdout",
     "output_type": "stream",
     "text": [
      "-------Video 11 not available to use\n",
      "------Downloading file 11--------------------------\n",
      "[youtube] N3pxp1FCJRQ: Downloading webpage\n",
      "[download] Destination: tmp\\vid11.f134.mp4\n",
      "[download] 100% of 28.21MiB in 00:11                          \n",
      "[download] Destination: tmp\\vid11.f140.m4a\n",
      "[download] 100% of 6.90MiB in 00:02                  \n",
      "[ffmpeg] Merging formats into \"tmp\\vid11.mp4\"\n",
      "Deleting original file tmp\\vid11.f134.mp4 (pass -k to keep)\n",
      "Deleting original file tmp\\vid11.f140.m4a (pass -k to keep)\n"
     ]
    },
    {
     "name": "stderr",
     "output_type": "stream",
     "text": [
      "\r",
      "chunk:   0%|          | 0/221 [00:00<?, ?it/s, now=None]"
     ]
    },
    {
     "name": "stdout",
     "output_type": "stream",
     "text": [
      "MoviePy - Writing audio in audio_clips\\Audio11.wav\n"
     ]
    },
    {
     "name": "stderr",
     "output_type": "stream",
     "text": [
      "                                                                  "
     ]
    },
    {
     "name": "stdout",
     "output_type": "stream",
     "text": [
      "MoviePy - Done.\n",
      "------Downloading file 12--------------------------\n",
      "[youtube] O2htSqXhdqE: Downloading webpage\n"
     ]
    },
    {
     "name": "stderr",
     "output_type": "stream",
     "text": [
      "\r"
     ]
    },
    {
     "name": "stdout",
     "output_type": "stream",
     "text": [
      "[download] Destination: tmp\\vid12.f137.mp4\n",
      "[download] 100% of 25.70MiB in 00:09                          \n",
      "[download] Destination: tmp\\vid12.f140.m4a\n",
      "[download] 100% of 1.30MiB in 00:01                  \n",
      "[ffmpeg] Merging formats into \"tmp\\vid12.mp4\"\n",
      "Deleting original file tmp\\vid12.f137.mp4 (pass -k to keep)\n",
      "Deleting original file tmp\\vid12.f140.m4a (pass -k to keep)\n"
     ]
    },
    {
     "name": "stderr",
     "output_type": "stream",
     "text": [
      "\r",
      "chunk:   0%|          | 0/221 [00:00<?, ?it/s, now=None]"
     ]
    },
    {
     "name": "stdout",
     "output_type": "stream",
     "text": [
      "MoviePy - Writing audio in audio_clips\\Audio12.wav\n"
     ]
    },
    {
     "name": "stderr",
     "output_type": "stream",
     "text": [
      "                                                                  "
     ]
    },
    {
     "name": "stdout",
     "output_type": "stream",
     "text": [
      "MoviePy - Done.\n",
      "------Downloading file 13--------------------------\n",
      "[youtube] PCsQ3zgL3CU: Downloading webpage\n"
     ]
    },
    {
     "name": "stderr",
     "output_type": "stream",
     "text": [
      "\r"
     ]
    },
    {
     "name": "stdout",
     "output_type": "stream",
     "text": [
      "[download] Destination: tmp\\vid13.f136.mp4\n",
      "[download] 100% of 39.67MiB in 00:16                          \n",
      "[download] Destination: tmp\\vid13.f140.m4a\n",
      "[download] 100% of 4.37MiB in 00:01                   \n",
      "[ffmpeg] Merging formats into \"tmp\\vid13.mp4\"\n",
      "Deleting original file tmp\\vid13.f136.mp4 (pass -k to keep)\n",
      "Deleting original file tmp\\vid13.f140.m4a (pass -k to keep)\n"
     ]
    },
    {
     "name": "stderr",
     "output_type": "stream",
     "text": [
      "\r",
      "chunk:   0%|          | 0/221 [00:00<?, ?it/s, now=None]"
     ]
    },
    {
     "name": "stdout",
     "output_type": "stream",
     "text": [
      "MoviePy - Writing audio in audio_clips\\Audio13.wav\n"
     ]
    },
    {
     "name": "stderr",
     "output_type": "stream",
     "text": [
      "                                                                  \r"
     ]
    },
    {
     "name": "stdout",
     "output_type": "stream",
     "text": [
      "MoviePy - Done.\n",
      "------Downloading file 14--------------------------\n",
      "[youtube] Q9DhGcV2OZs: Downloading webpage\n"
     ]
    },
    {
     "name": "stderr",
     "output_type": "stream",
     "text": [
      "ERROR: Q9DhGcV2OZs: YouTube said: Unable to extract video data\n"
     ]
    },
    {
     "name": "stdout",
     "output_type": "stream",
     "text": [
      "-------Video 14 not available to use\n",
      "------Downloading file 14--------------------------\n",
      "[youtube] Qy4Qu4sNUF0: Downloading webpage\n",
      "[download] Destination: tmp\\vid14.f136.mp4\n",
      "[download] 100% of 92.29MiB in 00:36                          \n",
      "[download] Destination: tmp\\vid14.f140.m4a\n",
      "[download] 100% of 4.50MiB in 00:01                  \n",
      "[ffmpeg] Merging formats into \"tmp\\vid14.mp4\"\n",
      "Deleting original file tmp\\vid14.f136.mp4 (pass -k to keep)\n",
      "Deleting original file tmp\\vid14.f140.m4a (pass -k to keep)\n"
     ]
    },
    {
     "name": "stderr",
     "output_type": "stream",
     "text": [
      "\r",
      "chunk:   0%|          | 0/221 [00:00<?, ?it/s, now=None]"
     ]
    },
    {
     "name": "stdout",
     "output_type": "stream",
     "text": [
      "MoviePy - Writing audio in audio_clips\\Audio14.wav\n"
     ]
    },
    {
     "name": "stderr",
     "output_type": "stream",
     "text": [
      "                                                                  "
     ]
    },
    {
     "name": "stdout",
     "output_type": "stream",
     "text": [
      "MoviePy - Done.\n",
      "------Downloading file 15--------------------------\n",
      "[youtube] RTVc3b_Udrs: Downloading webpage\n"
     ]
    },
    {
     "name": "stderr",
     "output_type": "stream",
     "text": [
      "WARNING: Requested formats are incompatible for merge and will be merged into mkv.\n"
     ]
    },
    {
     "name": "stdout",
     "output_type": "stream",
     "text": [
      "[download] Destination: tmp\\vid15.f136.mp4\n",
      "[download] 100% of 114.65MiB in 00:48                          \n",
      "[download] Destination: tmp\\vid15.f251.webm\n",
      "[download] 100% of 6.77MiB in 00:02                  \n",
      "[ffmpeg] Merging formats into \"tmp\\vid15.mkv\"\n",
      "Deleting original file tmp\\vid15.f136.mp4 (pass -k to keep)\n",
      "Deleting original file tmp\\vid15.f251.webm (pass -k to keep)\n"
     ]
    },
    {
     "name": "stderr",
     "output_type": "stream",
     "text": [
      "\r",
      "chunk:   0%|          | 0/221 [00:00<?, ?it/s, now=None]"
     ]
    },
    {
     "name": "stdout",
     "output_type": "stream",
     "text": [
      "MoviePy - Writing audio in audio_clips\\Audio15.wav\n"
     ]
    },
    {
     "name": "stderr",
     "output_type": "stream",
     "text": [
      "                                                                  "
     ]
    },
    {
     "name": "stdout",
     "output_type": "stream",
     "text": [
      "MoviePy - Done.\n",
      "------Downloading file 16--------------------------\n",
      "[youtube] S2Vk2fGMW1g: Downloading webpage\n"
     ]
    },
    {
     "name": "stderr",
     "output_type": "stream",
     "text": [
      "\r"
     ]
    },
    {
     "name": "stdout",
     "output_type": "stream",
     "text": [
      "[download] Destination: tmp\\vid16.f137.mp4\n",
      "[download] 100% of 143.40MiB in 01:00                          \n",
      "[download] Destination: tmp\\vid16.f140.m4a\n",
      "[download] 100% of 4.22MiB in 00:01                  \n",
      "[ffmpeg] Merging formats into \"tmp\\vid16.mp4\"\n",
      "Deleting original file tmp\\vid16.f137.mp4 (pass -k to keep)\n",
      "Deleting original file tmp\\vid16.f140.m4a (pass -k to keep)\n"
     ]
    },
    {
     "name": "stderr",
     "output_type": "stream",
     "text": [
      "\r",
      "chunk:   0%|          | 0/221 [00:00<?, ?it/s, now=None]"
     ]
    },
    {
     "name": "stdout",
     "output_type": "stream",
     "text": [
      "MoviePy - Writing audio in audio_clips\\Audio16.wav\n"
     ]
    },
    {
     "name": "stderr",
     "output_type": "stream",
     "text": [
      "                                                                  \r"
     ]
    },
    {
     "name": "stdout",
     "output_type": "stream",
     "text": [
      "MoviePy - Done.\n",
      "------Downloading file 17--------------------------\n",
      "[youtube] SQQgQ8wVfF0: Downloading webpage\n"
     ]
    },
    {
     "name": "stderr",
     "output_type": "stream",
     "text": [
      "WARNING: Requested formats are incompatible for merge and will be merged into mkv.\n"
     ]
    },
    {
     "name": "stdout",
     "output_type": "stream",
     "text": [
      "[download] Destination: tmp\\vid17.f135.mp4\n",
      "[download] 100% of 3.38MiB in 00:01                  \n",
      "[download] Destination: tmp\\vid17.f251.webm\n",
      "[download] 100% of 646.52KiB in 00:00                  \n",
      "[ffmpeg] Merging formats into \"tmp\\vid17.mkv\"\n",
      "Deleting original file tmp\\vid17.f135.mp4 (pass -k to keep)\n",
      "Deleting original file tmp\\vid17.f251.webm (pass -k to keep)\n"
     ]
    },
    {
     "name": "stderr",
     "output_type": "stream",
     "text": [
      "\r",
      "chunk:   0%|          | 0/221 [00:00<?, ?it/s, now=None]"
     ]
    },
    {
     "name": "stdout",
     "output_type": "stream",
     "text": [
      "MoviePy - Writing audio in audio_clips\\Audio17.wav\n"
     ]
    },
    {
     "name": "stderr",
     "output_type": "stream",
     "text": [
      "                                                                  "
     ]
    },
    {
     "name": "stdout",
     "output_type": "stream",
     "text": [
      "MoviePy - Done.\n",
      "------Downloading file 18--------------------------\n",
      "[youtube] SXFMAPPaAbA: Downloading webpage\n"
     ]
    },
    {
     "name": "stderr",
     "output_type": "stream",
     "text": [
      "WARNING: Requested formats are incompatible for merge and will be merged into mkv.\n"
     ]
    },
    {
     "name": "stdout",
     "output_type": "stream",
     "text": [
      "[download] Destination: tmp\\vid18.f133.mp4\n",
      "[download] 100% of 1.43MiB in 00:00                  \n",
      "[download] Destination: tmp\\vid18.f251.webm\n",
      "[download] 100% of 986.41KiB in 00:00                  \n",
      "[ffmpeg] Merging formats into \"tmp\\vid18.mkv\"\n",
      "Deleting original file tmp\\vid18.f133.mp4 (pass -k to keep)\n",
      "Deleting original file tmp\\vid18.f251.webm (pass -k to keep)\n"
     ]
    },
    {
     "name": "stderr",
     "output_type": "stream",
     "text": [
      "\r",
      "chunk:   0%|          | 0/221 [00:00<?, ?it/s, now=None]"
     ]
    },
    {
     "name": "stdout",
     "output_type": "stream",
     "text": [
      "MoviePy - Writing audio in audio_clips\\Audio18.wav\n"
     ]
    },
    {
     "name": "stderr",
     "output_type": "stream",
     "text": [
      "                                                                  \r"
     ]
    },
    {
     "name": "stdout",
     "output_type": "stream",
     "text": [
      "MoviePy - Done.\n",
      "------Downloading file 19--------------------------\n",
      "[youtube] VRQOBTLAwgc: Downloading webpage\n"
     ]
    },
    {
     "name": "stderr",
     "output_type": "stream",
     "text": [
      "WARNING: Requested formats are incompatible for merge and will be merged into mkv.\n"
     ]
    },
    {
     "name": "stdout",
     "output_type": "stream",
     "text": [
      "[download] Destination: tmp\\vid19.f135.mp4\n",
      "[download] 100% of 12.76MiB in 00:05                  \n",
      "[download] Destination: tmp\\vid19.f251.webm\n",
      "[download] 100% of 2.38MiB in 00:00                   \n",
      "[ffmpeg] Merging formats into \"tmp\\vid19.mkv\"\n",
      "Deleting original file tmp\\vid19.f135.mp4 (pass -k to keep)\n",
      "Deleting original file tmp\\vid19.f251.webm (pass -k to keep)\n"
     ]
    },
    {
     "name": "stderr",
     "output_type": "stream",
     "text": [
      "\r",
      "chunk:   0%|          | 0/221 [00:00<?, ?it/s, now=None]"
     ]
    },
    {
     "name": "stdout",
     "output_type": "stream",
     "text": [
      "MoviePy - Writing audio in audio_clips\\Audio19.wav\n"
     ]
    },
    {
     "name": "stderr",
     "output_type": "stream",
     "text": [
      "                                                                  "
     ]
    },
    {
     "name": "stdout",
     "output_type": "stream",
     "text": [
      "MoviePy - Done.\n",
      "------Downloading file 20--------------------------\n",
      "[youtube] WlSHKXsyEOU: Downloading webpage\n"
     ]
    },
    {
     "name": "stderr",
     "output_type": "stream",
     "text": [
      "WARNING: Requested formats are incompatible for merge and will be merged into mkv.\n"
     ]
    },
    {
     "name": "stdout",
     "output_type": "stream",
     "text": [
      "[download] Destination: tmp\\vid20.f133.mp4\n",
      "[download] 100% of 287.88KiB in 00:00                  \n",
      "[download] Destination: tmp\\vid20.f251.webm\n",
      "[download] 100% of 127.88KiB in 00:00                  \n",
      "[ffmpeg] Merging formats into \"tmp\\vid20.mkv\"\n",
      "Deleting original file tmp\\vid20.f133.mp4 (pass -k to keep)\n",
      "Deleting original file tmp\\vid20.f251.webm (pass -k to keep)\n"
     ]
    },
    {
     "name": "stderr",
     "output_type": "stream",
     "text": [
      "\r",
      "chunk:   0%|          | 0/221 [00:00<?, ?it/s, now=None]"
     ]
    },
    {
     "name": "stdout",
     "output_type": "stream",
     "text": [
      "MoviePy - Writing audio in audio_clips\\Audio20.wav\n"
     ]
    },
    {
     "name": "stderr",
     "output_type": "stream",
     "text": [
      "                                                                  "
     ]
    },
    {
     "name": "stdout",
     "output_type": "stream",
     "text": [
      "MoviePy - Done.\n",
      "------Downloading file 21--------------------------\n",
      "[youtube] XUIizI20wDI: Downloading webpage\n"
     ]
    },
    {
     "name": "stderr",
     "output_type": "stream",
     "text": [
      "WARNING: Requested formats are incompatible for merge and will be merged into mkv.\n"
     ]
    },
    {
     "name": "stdout",
     "output_type": "stream",
     "text": [
      "[download] Destination: tmp\\vid21.f137.mp4\n",
      "[download] 100% of 159.57MiB in 01:03                          \n",
      "[download] Destination: tmp\\vid21.f251.webm\n",
      "[download] 100% of 6.11MiB in 00:02                   \n",
      "[ffmpeg] Merging formats into \"tmp\\vid21.mkv\"\n",
      "Deleting original file tmp\\vid21.f137.mp4 (pass -k to keep)\n",
      "Deleting original file tmp\\vid21.f251.webm (pass -k to keep)\n"
     ]
    },
    {
     "name": "stderr",
     "output_type": "stream",
     "text": [
      "\r",
      "chunk:   0%|          | 0/221 [00:00<?, ?it/s, now=None]"
     ]
    },
    {
     "name": "stdout",
     "output_type": "stream",
     "text": [
      "MoviePy - Writing audio in audio_clips\\Audio21.wav\n"
     ]
    },
    {
     "name": "stderr",
     "output_type": "stream",
     "text": [
      "                                                                  \r"
     ]
    },
    {
     "name": "stdout",
     "output_type": "stream",
     "text": [
      "MoviePy - Done.\n",
      "------Downloading file 22--------------------------\n",
      "[youtube] XgzRQ8OD8TE: Downloading webpage\n"
     ]
    },
    {
     "name": "stderr",
     "output_type": "stream",
     "text": [
      "WARNING: Requested formats are incompatible for merge and will be merged into mkv.\n"
     ]
    },
    {
     "name": "stdout",
     "output_type": "stream",
     "text": [
      "[download] Destination: tmp\\vid22.f136.mp4\n",
      "[download] 100% of 69.00MiB in 00:30                          \n",
      "[download] Destination: tmp\\vid22.f251.webm\n",
      "[download] 100% of 3.62MiB in 00:01                   \n",
      "[ffmpeg] Merging formats into \"tmp\\vid22.mkv\"\n",
      "Deleting original file tmp\\vid22.f136.mp4 (pass -k to keep)\n",
      "Deleting original file tmp\\vid22.f251.webm (pass -k to keep)\n"
     ]
    },
    {
     "name": "stderr",
     "output_type": "stream",
     "text": [
      "\r",
      "chunk:   0%|          | 0/221 [00:00<?, ?it/s, now=None]"
     ]
    },
    {
     "name": "stdout",
     "output_type": "stream",
     "text": [
      "MoviePy - Writing audio in audio_clips\\Audio22.wav\n"
     ]
    },
    {
     "name": "stderr",
     "output_type": "stream",
     "text": [
      "                                                                  "
     ]
    },
    {
     "name": "stdout",
     "output_type": "stream",
     "text": [
      "MoviePy - Done.\n",
      "------Downloading file 23--------------------------\n",
      "[youtube] Z_RF6ppPVKM: Downloading webpage\n"
     ]
    },
    {
     "name": "stderr",
     "output_type": "stream",
     "text": [
      "\r"
     ]
    },
    {
     "name": "stdout",
     "output_type": "stream",
     "text": [
      "[download] Destination: tmp\\vid23.f133.mp4\n",
      "[download] 100% of 1.59MiB in 00:01                  \n",
      "[download] Destination: tmp\\vid23.f140.m4a\n",
      "[download] 100% of 855.57KiB in 00:00                  \n",
      "[ffmpeg] Merging formats into \"tmp\\vid23.mp4\"\n",
      "Deleting original file tmp\\vid23.f133.mp4 (pass -k to keep)\n",
      "Deleting original file tmp\\vid23.f140.m4a (pass -k to keep)\n"
     ]
    },
    {
     "name": "stderr",
     "output_type": "stream",
     "text": [
      "\r",
      "chunk:   0%|          | 0/221 [00:00<?, ?it/s, now=None]"
     ]
    },
    {
     "name": "stdout",
     "output_type": "stream",
     "text": [
      "MoviePy - Writing audio in audio_clips\\Audio23.wav\n"
     ]
    },
    {
     "name": "stderr",
     "output_type": "stream",
     "text": [
      "                                                                  "
     ]
    },
    {
     "name": "stdout",
     "output_type": "stream",
     "text": [
      "MoviePy - Done.\n",
      "------Downloading file 24--------------------------\n",
      "[youtube] ZaofVJP8QYI: Downloading webpage\n"
     ]
    },
    {
     "name": "stderr",
     "output_type": "stream",
     "text": [
      "WARNING: Requested formats are incompatible for merge and will be merged into mkv.\n"
     ]
    },
    {
     "name": "stdout",
     "output_type": "stream",
     "text": [
      "[download] Destination: tmp\\vid24.f136.mp4\n",
      "[download] 100% of 13.89MiB in 00:05                  \n",
      "[download] Destination: tmp\\vid24.f251.webm\n",
      "[download] 100% of 1.66MiB in 00:00                  \n",
      "[ffmpeg] Merging formats into \"tmp\\vid24.mkv\"\n",
      "Deleting original file tmp\\vid24.f136.mp4 (pass -k to keep)\n",
      "Deleting original file tmp\\vid24.f251.webm (pass -k to keep)\n"
     ]
    },
    {
     "name": "stderr",
     "output_type": "stream",
     "text": [
      "\r",
      "chunk:   0%|          | 0/221 [00:00<?, ?it/s, now=None]"
     ]
    },
    {
     "name": "stdout",
     "output_type": "stream",
     "text": [
      "MoviePy - Writing audio in audio_clips\\Audio24.wav\n"
     ]
    },
    {
     "name": "stderr",
     "output_type": "stream",
     "text": [
      "                                                                  "
     ]
    },
    {
     "name": "stdout",
     "output_type": "stream",
     "text": [
      "MoviePy - Done.\n",
      "------Downloading file 25--------------------------\n",
      "[youtube] cQGmwvP5fCA: Downloading webpage\n"
     ]
    },
    {
     "name": "stderr",
     "output_type": "stream",
     "text": [
      "WARNING: Requested formats are incompatible for merge and will be merged into mkv.\n"
     ]
    },
    {
     "name": "stdout",
     "output_type": "stream",
     "text": [
      "[download] Destination: tmp\\vid25.f135.mp4\n",
      "[download] 100% of 21.61MiB in 00:08                          \n",
      "[download] Destination: tmp\\vid25.f251.webm\n",
      "[download] 100% of 3.37MiB in 00:01                  \n",
      "[ffmpeg] Merging formats into \"tmp\\vid25.mkv\"\n",
      "Deleting original file tmp\\vid25.f135.mp4 (pass -k to keep)\n",
      "Deleting original file tmp\\vid25.f251.webm (pass -k to keep)\n"
     ]
    },
    {
     "name": "stderr",
     "output_type": "stream",
     "text": [
      "\r",
      "chunk:   0%|          | 0/221 [00:00<?, ?it/s, now=None]"
     ]
    },
    {
     "name": "stdout",
     "output_type": "stream",
     "text": [
      "MoviePy - Writing audio in audio_clips\\Audio25.wav\n"
     ]
    },
    {
     "name": "stderr",
     "output_type": "stream",
     "text": [
      "                                                                  \r"
     ]
    },
    {
     "name": "stdout",
     "output_type": "stream",
     "text": [
      "MoviePy - Done.\n",
      "------Downloading file 26--------------------------\n",
      "[youtube] dgDNEEzUlq4: Downloading webpage\n"
     ]
    },
    {
     "name": "stderr",
     "output_type": "stream",
     "text": [
      "WARNING: Requested formats are incompatible for merge and will be merged into mkv.\n"
     ]
    },
    {
     "name": "stdout",
     "output_type": "stream",
     "text": [
      "[download] Destination: tmp\\vid26.f133.mp4\n",
      "[download] 100% of 6.88MiB in 00:03                  \n",
      "[download] Destination: tmp\\vid26.f251.webm\n",
      "[download] 100% of 4.18MiB in 00:01                  \n",
      "[ffmpeg] Merging formats into \"tmp\\vid26.mkv\"\n",
      "Deleting original file tmp\\vid26.f133.mp4 (pass -k to keep)\n",
      "Deleting original file tmp\\vid26.f251.webm (pass -k to keep)\n"
     ]
    },
    {
     "name": "stderr",
     "output_type": "stream",
     "text": [
      "\r",
      "chunk:   0%|          | 0/221 [00:00<?, ?it/s, now=None]"
     ]
    },
    {
     "name": "stdout",
     "output_type": "stream",
     "text": [
      "MoviePy - Writing audio in audio_clips\\Audio26.wav\n"
     ]
    },
    {
     "name": "stderr",
     "output_type": "stream",
     "text": [
      "                                                                  "
     ]
    },
    {
     "name": "stdout",
     "output_type": "stream",
     "text": [
      "MoviePy - Done.\n",
      "------Downloading file 27--------------------------\n",
      "[youtube] dzd3vubsmMY: Downloading webpage\n"
     ]
    },
    {
     "name": "stderr",
     "output_type": "stream",
     "text": [
      "WARNING: Requested formats are incompatible for merge and will be merged into mkv.\n"
     ]
    },
    {
     "name": "stdout",
     "output_type": "stream",
     "text": [
      "[download] Destination: tmp\\vid27.f136.mp4\n",
      "[download] 100% of 29.04MiB in 00:13                   \n",
      "[download] Destination: tmp\\vid27.f251.webm\n",
      "[download] 100% of 2.47MiB in 00:01                   \n",
      "[ffmpeg] Merging formats into \"tmp\\vid27.mkv\"\n",
      "Deleting original file tmp\\vid27.f136.mp4 (pass -k to keep)\n",
      "Deleting original file tmp\\vid27.f251.webm (pass -k to keep)\n"
     ]
    },
    {
     "name": "stderr",
     "output_type": "stream",
     "text": [
      "\r",
      "chunk:   0%|          | 0/221 [00:00<?, ?it/s, now=None]"
     ]
    },
    {
     "name": "stdout",
     "output_type": "stream",
     "text": [
      "MoviePy - Writing audio in audio_clips\\Audio27.wav\n"
     ]
    },
    {
     "name": "stderr",
     "output_type": "stream",
     "text": [
      "                                                                  \r"
     ]
    },
    {
     "name": "stdout",
     "output_type": "stream",
     "text": [
      "MoviePy - Done.\n",
      "------Downloading file 28--------------------------\n",
      "[youtube] eLpoiPXQe1Q: Downloading webpage\n"
     ]
    },
    {
     "name": "stderr",
     "output_type": "stream",
     "text": [
      "WARNING: Requested formats are incompatible for merge and will be merged into mkv.\n"
     ]
    },
    {
     "name": "stdout",
     "output_type": "stream",
     "text": [
      "[download] Destination: tmp\\vid28.f133.mp4\n",
      "[download] 100% of 330.17KiB in 00:00                   \n",
      "[download] Destination: tmp\\vid28.f251.webm\n",
      "[download] 100% of 144.24KiB in 00:00                   \n",
      "[ffmpeg] Merging formats into \"tmp\\vid28.mkv\"\n",
      "Deleting original file tmp\\vid28.f133.mp4 (pass -k to keep)\n",
      "Deleting original file tmp\\vid28.f251.webm (pass -k to keep)\n"
     ]
    },
    {
     "name": "stderr",
     "output_type": "stream",
     "text": [
      "\r",
      "chunk:   0%|          | 0/221 [00:00<?, ?it/s, now=None]"
     ]
    },
    {
     "name": "stdout",
     "output_type": "stream",
     "text": [
      "MoviePy - Writing audio in audio_clips\\Audio28.wav\n"
     ]
    },
    {
     "name": "stderr",
     "output_type": "stream",
     "text": [
      "                                                                  "
     ]
    },
    {
     "name": "stdout",
     "output_type": "stream",
     "text": [
      "MoviePy - Done.\n",
      "------Downloading file 29--------------------------\n",
      "[youtube] fLpLKstiULY: Downloading webpage\n"
     ]
    },
    {
     "name": "stderr",
     "output_type": "stream",
     "text": [
      "WARNING: Requested formats are incompatible for merge and will be merged into mkv.\n"
     ]
    },
    {
     "name": "stdout",
     "output_type": "stream",
     "text": [
      "[download] Destination: tmp\\vid29.f135.mp4\n",
      "[download] 100% of 7.73MiB in 00:02                  \n",
      "[download] Destination: tmp\\vid29.f251.webm\n",
      "[download] 100% of 1.86MiB in 00:00                  \n",
      "[ffmpeg] Merging formats into \"tmp\\vid29.mkv\"\n",
      "Deleting original file tmp\\vid29.f135.mp4 (pass -k to keep)\n",
      "Deleting original file tmp\\vid29.f251.webm (pass -k to keep)\n"
     ]
    },
    {
     "name": "stderr",
     "output_type": "stream",
     "text": [
      "\r",
      "chunk:   0%|          | 0/221 [00:00<?, ?it/s, now=None]"
     ]
    },
    {
     "name": "stdout",
     "output_type": "stream",
     "text": [
      "MoviePy - Writing audio in audio_clips\\Audio29.wav\n"
     ]
    },
    {
     "name": "stderr",
     "output_type": "stream",
     "text": [
      "                                                                  "
     ]
    },
    {
     "name": "stdout",
     "output_type": "stream",
     "text": [
      "MoviePy - Done.\n",
      "------Downloading file 30--------------------------\n",
      "[youtube] hWs6qu4ayAc: Downloading webpage\n"
     ]
    },
    {
     "name": "stderr",
     "output_type": "stream",
     "text": [
      "\r"
     ]
    },
    {
     "name": "stdout",
     "output_type": "stream",
     "text": [
      "[download] Destination: tmp\\vid30.f135.mp4\n",
      "[download] 100% of 28.44MiB in 00:11                          \n",
      "[download] Destination: tmp\\vid30.f140.m4a\n",
      "[download] 100% of 6.77MiB in 00:02                   \n",
      "[ffmpeg] Merging formats into \"tmp\\vid30.mp4\"\n",
      "Deleting original file tmp\\vid30.f135.mp4 (pass -k to keep)\n",
      "Deleting original file tmp\\vid30.f140.m4a (pass -k to keep)\n"
     ]
    },
    {
     "name": "stderr",
     "output_type": "stream",
     "text": [
      "\r",
      "chunk:   0%|          | 0/221 [00:00<?, ?it/s, now=None]"
     ]
    },
    {
     "name": "stdout",
     "output_type": "stream",
     "text": [
      "MoviePy - Writing audio in audio_clips\\Audio30.wav\n"
     ]
    },
    {
     "name": "stderr",
     "output_type": "stream",
     "text": [
      "                                                                  \r"
     ]
    },
    {
     "name": "stdout",
     "output_type": "stream",
     "text": [
      "MoviePy - Done.\n",
      "------Downloading file 31--------------------------\n",
      "[youtube] hbzS-DuGx-A: Downloading webpage\n"
     ]
    },
    {
     "name": "stderr",
     "output_type": "stream",
     "text": [
      "WARNING: Requested formats are incompatible for merge and will be merged into mkv.\n"
     ]
    },
    {
     "name": "stdout",
     "output_type": "stream",
     "text": [
      "[download] Destination: tmp\\vid31.f136.mp4\n",
      "[download] 100% of 145.55MiB in 00:59                          \n",
      "[download] Destination: tmp\\vid31.f251.webm\n",
      "[download] 100% of 11.00MiB in 00:04                          \n",
      "[ffmpeg] Merging formats into \"tmp\\vid31.mkv\"\n",
      "Deleting original file tmp\\vid31.f136.mp4 (pass -k to keep)\n",
      "Deleting original file tmp\\vid31.f251.webm (pass -k to keep)\n"
     ]
    },
    {
     "name": "stderr",
     "output_type": "stream",
     "text": [
      "\r",
      "chunk:   0%|          | 0/221 [00:00<?, ?it/s, now=None]"
     ]
    },
    {
     "name": "stdout",
     "output_type": "stream",
     "text": [
      "MoviePy - Writing audio in audio_clips\\Audio31.wav\n"
     ]
    },
    {
     "name": "stderr",
     "output_type": "stream",
     "text": [
      "                                                                  "
     ]
    },
    {
     "name": "stdout",
     "output_type": "stream",
     "text": [
      "MoviePy - Done.\n",
      "------Downloading file 32--------------------------\n",
      "[youtube] hzEo0DRl8l4: Downloading webpage\n"
     ]
    },
    {
     "name": "stderr",
     "output_type": "stream",
     "text": [
      "ERROR: hzEo0DRl8l4: YouTube said: Unable to extract video data\n"
     ]
    },
    {
     "name": "stdout",
     "output_type": "stream",
     "text": [
      "-------Video 32 not available to use\n",
      "------Downloading file 32--------------------------\n",
      "[youtube] jId8lbfr-kg: Downloading webpage\n"
     ]
    },
    {
     "name": "stderr",
     "output_type": "stream",
     "text": [
      "WARNING: Requested formats are incompatible for merge and will be merged into mkv.\n"
     ]
    },
    {
     "name": "stdout",
     "output_type": "stream",
     "text": [
      "[download] Destination: tmp\\vid32.f137.mp4\n",
      "[download] 100% of 109.32MiB in 00:43                          \n",
      "[download] Destination: tmp\\vid32.f251.webm\n",
      "[download] 100% of 4.23MiB in 00:02                  \n",
      "[ffmpeg] Merging formats into \"tmp\\vid32.mkv\"\n",
      "Deleting original file tmp\\vid32.f137.mp4 (pass -k to keep)\n",
      "Deleting original file tmp\\vid32.f251.webm (pass -k to keep)\n"
     ]
    },
    {
     "name": "stderr",
     "output_type": "stream",
     "text": [
      "\r",
      "chunk:   0%|          | 0/221 [00:00<?, ?it/s, now=None]"
     ]
    },
    {
     "name": "stdout",
     "output_type": "stream",
     "text": [
      "MoviePy - Writing audio in audio_clips\\Audio32.wav\n"
     ]
    },
    {
     "name": "stderr",
     "output_type": "stream",
     "text": [
      "                                                                  "
     ]
    },
    {
     "name": "stdout",
     "output_type": "stream",
     "text": [
      "MoviePy - Done.\n",
      "------Downloading file 33--------------------------\n",
      "[youtube] kGKZ0YK4_rk: Downloading webpage\n"
     ]
    },
    {
     "name": "stderr",
     "output_type": "stream",
     "text": [
      "\r"
     ]
    },
    {
     "name": "stdout",
     "output_type": "stream",
     "text": [
      "[download] Destination: tmp\\vid33.f133.mp4\n",
      "[download] 100% of 3.56MiB in 00:02                   \n",
      "[download] Destination: tmp\\vid33.f140.m4a\n",
      "[download] 100% of 2.26MiB in 00:01                  \n",
      "[ffmpeg] Merging formats into \"tmp\\vid33.mp4\"\n",
      "Deleting original file tmp\\vid33.f133.mp4 (pass -k to keep)\n",
      "Deleting original file tmp\\vid33.f140.m4a (pass -k to keep)\n"
     ]
    },
    {
     "name": "stderr",
     "output_type": "stream",
     "text": [
      "\r",
      "chunk:   0%|          | 0/221 [00:00<?, ?it/s, now=None]"
     ]
    },
    {
     "name": "stdout",
     "output_type": "stream",
     "text": [
      "MoviePy - Writing audio in audio_clips\\Audio33.wav\n"
     ]
    },
    {
     "name": "stderr",
     "output_type": "stream",
     "text": [
      "                                                                  \r"
     ]
    },
    {
     "name": "stdout",
     "output_type": "stream",
     "text": [
      "MoviePy - Done.\n",
      "------Downloading file 34--------------------------\n",
      "[youtube] pcRhhSdpbqg: Downloading webpage\n"
     ]
    },
    {
     "name": "stderr",
     "output_type": "stream",
     "text": [
      "WARNING: Requested formats are incompatible for merge and will be merged into mkv.\n"
     ]
    },
    {
     "name": "stdout",
     "output_type": "stream",
     "text": [
      "[download] Destination: tmp\\vid34.f137.mp4\n",
      "[download] 100% of 61.17MiB in 00:24                          \n",
      "[download] Destination: tmp\\vid34.f251.webm\n",
      "[download] 100% of 2.34MiB in 00:00                   \n",
      "[ffmpeg] Merging formats into \"tmp\\vid34.mkv\"\n",
      "Deleting original file tmp\\vid34.f137.mp4 (pass -k to keep)\n",
      "Deleting original file tmp\\vid34.f251.webm (pass -k to keep)\n"
     ]
    },
    {
     "name": "stderr",
     "output_type": "stream",
     "text": [
      "\r",
      "chunk:   0%|          | 0/221 [00:00<?, ?it/s, now=None]"
     ]
    },
    {
     "name": "stdout",
     "output_type": "stream",
     "text": [
      "MoviePy - Writing audio in audio_clips\\Audio34.wav\n"
     ]
    },
    {
     "name": "stderr",
     "output_type": "stream",
     "text": [
      "                                                                  \r"
     ]
    },
    {
     "name": "stdout",
     "output_type": "stream",
     "text": [
      "MoviePy - Done.\n",
      "------Downloading file 35--------------------------\n",
      "[youtube] q3nALRNgkOY: Downloading webpage\n"
     ]
    },
    {
     "name": "stderr",
     "output_type": "stream",
     "text": [
      "WARNING: Requested formats are incompatible for merge and will be merged into mkv.\n"
     ]
    },
    {
     "name": "stdout",
     "output_type": "stream",
     "text": [
      "[download] Destination: tmp\\vid35.f137.mp4\n",
      "[download] 100% of 64.21MiB in 00:29                          \n",
      "[download] Destination: tmp\\vid35.f251.webm\n",
      "[download] 100% of 3.16MiB in 00:01                  \n",
      "[ffmpeg] Merging formats into \"tmp\\vid35.mkv\"\n",
      "Deleting original file tmp\\vid35.f137.mp4 (pass -k to keep)\n",
      "Deleting original file tmp\\vid35.f251.webm (pass -k to keep)\n"
     ]
    },
    {
     "name": "stderr",
     "output_type": "stream",
     "text": [
      "\r",
      "chunk:   0%|          | 0/221 [00:00<?, ?it/s, now=None]"
     ]
    },
    {
     "name": "stdout",
     "output_type": "stream",
     "text": [
      "MoviePy - Writing audio in audio_clips\\Audio35.wav\n"
     ]
    },
    {
     "name": "stderr",
     "output_type": "stream",
     "text": [
      "                                                                  "
     ]
    },
    {
     "name": "stdout",
     "output_type": "stream",
     "text": [
      "MoviePy - Done.\n",
      "------Downloading file 36--------------------------\n",
      "[youtube] rIQIHXwqnTE: Downloading webpage\n"
     ]
    },
    {
     "name": "stderr",
     "output_type": "stream",
     "text": [
      "WARNING: Requested formats are incompatible for merge and will be merged into mkv.\n"
     ]
    },
    {
     "name": "stdout",
     "output_type": "stream",
     "text": [
      "[download] Destination: tmp\\vid36.f133.mp4\n",
      "[download] 100% of 1.62MiB in 00:00                   \n",
      "[download] Destination: tmp\\vid36.f251.webm\n",
      "[download] 100% of 860.49KiB in 00:00                  \n",
      "[ffmpeg] Merging formats into \"tmp\\vid36.mkv\"\n",
      "Deleting original file tmp\\vid36.f133.mp4 (pass -k to keep)\n",
      "Deleting original file tmp\\vid36.f251.webm (pass -k to keep)\n"
     ]
    },
    {
     "name": "stderr",
     "output_type": "stream",
     "text": [
      "\r",
      "chunk:   0%|          | 0/221 [00:00<?, ?it/s, now=None]"
     ]
    },
    {
     "name": "stdout",
     "output_type": "stream",
     "text": [
      "MoviePy - Writing audio in audio_clips\\Audio36.wav\n"
     ]
    },
    {
     "name": "stderr",
     "output_type": "stream",
     "text": [
      "                                                                  \r"
     ]
    },
    {
     "name": "stdout",
     "output_type": "stream",
     "text": [
      "MoviePy - Done.\n",
      "------Downloading file 37--------------------------\n",
      "[youtube] tt1vv6Il_Es: Downloading webpage\n"
     ]
    },
    {
     "name": "stderr",
     "output_type": "stream",
     "text": [
      "WARNING: Requested formats are incompatible for merge and will be merged into mkv.\n"
     ]
    },
    {
     "name": "stdout",
     "output_type": "stream",
     "text": [
      "[download] Destination: tmp\\vid37.f135.mp4\n",
      "[download] 100% of 8.06MiB in 00:02                  \n",
      "[download] Destination: tmp\\vid37.f251.webm\n",
      "[download] 100% of 3.58MiB in 00:01                  \n",
      "[ffmpeg] Merging formats into \"tmp\\vid37.mkv\"\n",
      "Deleting original file tmp\\vid37.f135.mp4 (pass -k to keep)\n",
      "Deleting original file tmp\\vid37.f251.webm (pass -k to keep)\n"
     ]
    },
    {
     "name": "stderr",
     "output_type": "stream",
     "text": [
      "\r",
      "chunk:   0%|          | 0/221 [00:00<?, ?it/s, now=None]"
     ]
    },
    {
     "name": "stdout",
     "output_type": "stream",
     "text": [
      "MoviePy - Writing audio in audio_clips\\Audio37.wav\n"
     ]
    },
    {
     "name": "stderr",
     "output_type": "stream",
     "text": [
      "                                                                  "
     ]
    },
    {
     "name": "stdout",
     "output_type": "stream",
     "text": [
      "MoviePy - Done.\n",
      "------Downloading file 38--------------------------\n",
      "[youtube] uBCBppnw7OU: Downloading webpage\n"
     ]
    },
    {
     "name": "stderr",
     "output_type": "stream",
     "text": [
      "WARNING: Requested formats are incompatible for merge and will be merged into mkv.\n"
     ]
    },
    {
     "name": "stdout",
     "output_type": "stream",
     "text": [
      "[download] Destination: tmp\\vid38.f133.mp4\n",
      "[download] 100% of 2.50MiB in 00:00                  \n",
      "[download] Destination: tmp\\vid38.f251.webm\n",
      "[download] 100% of 1.39MiB in 00:00                  \n",
      "[ffmpeg] Merging formats into \"tmp\\vid38.mkv\"\n",
      "Deleting original file tmp\\vid38.f133.mp4 (pass -k to keep)\n",
      "Deleting original file tmp\\vid38.f251.webm (pass -k to keep)\n"
     ]
    },
    {
     "name": "stderr",
     "output_type": "stream",
     "text": [
      "\r",
      "chunk:   0%|          | 0/221 [00:00<?, ?it/s, now=None]"
     ]
    },
    {
     "name": "stdout",
     "output_type": "stream",
     "text": [
      "MoviePy - Writing audio in audio_clips\\Audio38.wav\n"
     ]
    },
    {
     "name": "stderr",
     "output_type": "stream",
     "text": [
      "                                                                  "
     ]
    },
    {
     "name": "stdout",
     "output_type": "stream",
     "text": [
      "MoviePy - Done.\n",
      "------Downloading file 39--------------------------\n",
      "[youtube] vmxCQHqiM54: Downloading webpage\n"
     ]
    },
    {
     "name": "stderr",
     "output_type": "stream",
     "text": [
      "WARNING: Requested formats are incompatible for merge and will be merged into mkv.\n"
     ]
    },
    {
     "name": "stdout",
     "output_type": "stream",
     "text": [
      "[download] Destination: tmp\\vid39.f136.mp4\n",
      "[download] 100% of 31.47MiB in 00:13                          \n",
      "[download] Destination: tmp\\vid39.f251.webm\n",
      "[download] 100% of 1.65MiB in 00:01                  \n",
      "[ffmpeg] Merging formats into \"tmp\\vid39.mkv\"\n",
      "Deleting original file tmp\\vid39.f136.mp4 (pass -k to keep)\n",
      "Deleting original file tmp\\vid39.f251.webm (pass -k to keep)\n"
     ]
    },
    {
     "name": "stderr",
     "output_type": "stream",
     "text": [
      "\r",
      "chunk:   0%|          | 0/221 [00:00<?, ?it/s, now=None]"
     ]
    },
    {
     "name": "stdout",
     "output_type": "stream",
     "text": [
      "MoviePy - Writing audio in audio_clips\\Audio39.wav\n"
     ]
    },
    {
     "name": "stderr",
     "output_type": "stream",
     "text": [
      "                                                                  \r"
     ]
    },
    {
     "name": "stdout",
     "output_type": "stream",
     "text": [
      "MoviePy - Done.\n",
      "------Downloading file 40--------------------------\n",
      "[youtube] xoL_pPNeNgU: Downloading webpage\n",
      "[download] Destination: tmp\\vid40.f242.webm\n",
      "[download] 100% of 94.95KiB in 00:00                   \n",
      "[download] Destination: tmp\\vid40.f251.webm\n",
      "[download] 100% of 445.02KiB in 00:00                   \n",
      "[ffmpeg] Merging formats into \"tmp\\vid40.webm\"\n",
      "Deleting original file tmp\\vid40.f242.webm (pass -k to keep)\n",
      "Deleting original file tmp\\vid40.f251.webm (pass -k to keep)\n"
     ]
    },
    {
     "name": "stderr",
     "output_type": "stream",
     "text": [
      "\r",
      "chunk:   0%|          | 0/221 [00:00<?, ?it/s, now=None]"
     ]
    },
    {
     "name": "stdout",
     "output_type": "stream",
     "text": [
      "MoviePy - Writing audio in audio_clips\\Audio40.wav\n"
     ]
    },
    {
     "name": "stderr",
     "output_type": "stream",
     "text": [
      "                                                                  \r"
     ]
    },
    {
     "name": "stdout",
     "output_type": "stream",
     "text": [
      "MoviePy - Done.\n",
      "------Downloading file 41--------------------------\n",
      "[youtube] zNYHzcIRMFY: Downloading webpage\n"
     ]
    },
    {
     "name": "stderr",
     "output_type": "stream",
     "text": [
      "WARNING: Requested formats are incompatible for merge and will be merged into mkv.\n"
     ]
    },
    {
     "name": "stdout",
     "output_type": "stream",
     "text": [
      "[download] Destination: tmp\\vid41.f135.mp4\n",
      "[download] 100% of 4.16MiB in 00:02                  \n",
      "[download] Destination: tmp\\vid41.f251.webm\n",
      "[download] 100% of 787.81KiB in 00:00                  \n",
      "[ffmpeg] Merging formats into \"tmp\\vid41.mkv\"\n",
      "Deleting original file tmp\\vid41.f135.mp4 (pass -k to keep)\n",
      "Deleting original file tmp\\vid41.f251.webm (pass -k to keep)\n"
     ]
    },
    {
     "name": "stderr",
     "output_type": "stream",
     "text": [
      "\r",
      "chunk:   0%|          | 0/221 [00:00<?, ?it/s, now=None]"
     ]
    },
    {
     "name": "stdout",
     "output_type": "stream",
     "text": [
      "MoviePy - Writing audio in audio_clips\\Audio41.wav\n"
     ]
    },
    {
     "name": "stderr",
     "output_type": "stream",
     "text": [
      "                                                                  "
     ]
    },
    {
     "name": "stdout",
     "output_type": "stream",
     "text": [
      "MoviePy - Done.\n"
     ]
    },
    {
     "name": "stderr",
     "output_type": "stream",
     "text": [
      "\r"
     ]
    }
   ],
   "source": [
    "video_counter=1\n",
    "for values in video_list:\n",
    "    print(\"------Downloading file \"+str(video_counter)+\"--------------------------\")\n",
    "    ydl_opts = {'outtmpl': 'tmp\\\\vid'+str(video_counter)+'.%(ext)s'}\n",
    "    try:\n",
    "        with youtube_dl.YoutubeDL(ydl_opts) as ydl:\n",
    "            ydl.download(['http://www.youtube.com/watch?v='+values[0]])\n",
    "\n",
    "        video_link=\"tmp\\\\vid\"+str(video_counter)\n",
    "        try:\n",
    "            clip = mp.VideoFileClip(video_link+\".webm\").subclip(values[1],values[2])\n",
    "        except:\n",
    "            try:\n",
    "                clip = mp.VideoFileClip(video_link+\".mp4\").subclip(values[1],values[2])\n",
    "            except:\n",
    "                clip = mp.VideoFileClip(video_link+\".mkv\").subclip(values[1],values[2])\n",
    "        clip.audio.write_audiofile(\"audio_clips\\\\Audio\"+str(video_counter)+\".wav\")\n",
    "        video_counter+=1\n",
    "    except:\n",
    "        print(\"-------Video \"+ str(video_counter)+\" not available to use\")\n",
    "        continue\n",
    "    "
   ]
  }
 ],
 "metadata": {
  "kernelspec": {
   "display_name": "Python 3",
   "language": "python",
   "name": "python3"
  },
  "language_info": {
   "codemirror_mode": {
    "name": "ipython",
    "version": 3
   },
   "file_extension": ".py",
   "mimetype": "text/x-python",
   "name": "python",
   "nbconvert_exporter": "python",
   "pygments_lexer": "ipython3",
   "version": "3.7.6"
  }
 },
 "nbformat": 4,
 "nbformat_minor": 4
}
